{
  "nbformat": 4,
  "nbformat_minor": 0,
  "metadata": {
    "colab": {
      "provenance": []
    },
    "kernelspec": {
      "name": "python3",
      "display_name": "Python 3"
    },
    "language_info": {
      "name": "python"
    }
  },
  "cells": [
    {
      "cell_type": "code",
      "execution_count": null,
      "metadata": {
        "id": "pgErRRnCjpTl"
      },
      "outputs": [],
      "source": [
        "import numpy as np\n",
        "from sympy import Matrix\n",
        "import matplotlib.pyplot as plt\n",
        "import seaborn as sns\n",
        "import random\n",
        "\n",
        "\n",
        "R = 69\n",
        "num_points = 200 * 14"
      ]
    },
    {
      "cell_type": "code",
      "source": [
        "# 1. Function to check if a point is inside the circle\n",
        "def is_inside_circle(x, y, radius):\n",
        "  return x**2 + y**2 <= (radius / 10)**2\n",
        "\n",
        "# 2. Generate points using two different random methods\n",
        "def generate_points(num_points, R):\n",
        "  inside = 0\n",
        "  outside = 0\n",
        "\n",
        "  # Half using random.uniform()\n",
        "  for _ in range(num_points // 2):\n",
        "    x = random.uniform(0, R / 10)\n",
        "    y = random.uniform(0, R / 10)\n",
        "    if is_inside_circle(x, y, R):\n",
        "      inside += 1\n",
        "    else:\n",
        "      outside += 1\n",
        "        # Half using numpy.random.rand() scaled to range\n",
        "  points = np.random.rand(num_points // 2, 2) * (R / 10)\n",
        "  for x, y in points:\n",
        "    if is_inside_circle(x, y, R):\n",
        "      inside += 1\n",
        "    else:\n",
        "      outside += 1\n",
        "\n",
        "  return inside, outside\n",
        "\n",
        "# 3. Keep a running count of points\n",
        "inside_count, outside_count = generate_points(num_points, R)\n",
        "print(\"Points inside the circle:\", inside_count)\n",
        "print(\"Points outside the circle:\", outside_count)"
      ],
      "metadata": {
        "id": "B1t3W4sN2HUc"
      },
      "execution_count": null,
      "outputs": []
    },
    {
      "cell_type": "code",
      "source": [
        "# Part 1 - Setup & Personalization (reused for context)\n",
        "student_id = \"69\"\n",
        "R = int(student_id[-2:])\n",
        "full_name = \"muhammed al efad\"  # 14 letters\n",
        "num_points = 200 * len(full_name.replace(\" \", \"\"))  # 3000\n",
        "\n",
        "# Part 2 - Simulation Logic (reused functions)\n",
        "def is_inside_circle(x, y, radius):\n",
        "    return x**2 + y**2 <= (radius / 10)**2\n",
        "\n",
        "def generate_points(num_points, R):\n",
        "    inside = 0\n",
        "    outside = 0\n",
        "    # Half using random.uniform()\n",
        "    for _ in range(num_points // 2):\n",
        "        x = random.uniform(0, R / 10)\n",
        "        y = random.uniform(0, R / 10)\n",
        "        if is_inside_circle(x, y, R):\n",
        "            inside += 1\n",
        "        else:\n",
        "            outside += 1\n",
        "    # Half using numpy.random.rand() scaled to range\n",
        "    points = np.random.rand(num_points // 2, 2) * (R / 10)\n",
        "    for x, y in points:\n",
        "        if is_inside_circle(x, y, R):\n",
        "            inside += 1\n",
        "        else:\n",
        "            outside += 1\n",
        "    return inside, outside\n",
        "    # Part 3 - Output & Analysis\n",
        "def estimate_pi_adjusted(num_points, R):\n",
        "    inside, _ = generate_points(num_points, R)\n",
        "    radius = R / 10\n",
        "    # Adjusted formula: π ≈ 4 * (Points inside / Total points) * (1 / r^2)\n",
        "    estimated_pi = 4 * (inside / num_points) * (1 / (radius ** 2))\n",
        "    math_pi = np.pi\n",
        "    error = abs(estimated_pi - math_pi)\n",
        "    return inside, estimated_pi, error\n",
        "\n",
        "# Minimum points from Part 1\n",
        "min_points = num_points\n",
        "point_multiples = [min_points, 2 * min_points, 3 * min_points, 4 * min_points, 5 * min_points]\n",
        "\n",
        "# Print results in tabular format\n",
        "print(\"Range Used | Total Points | Points Inside | Estimated π | Error from math.pi\")\n",
        "for points in point_multiples:\n",
        "    points_inside, estimated_pi, error = estimate_pi_adjusted(points, R)\n",
        "    print(f\"{R/10} | {points} | {points_inside} | {estimated_pi:.6f} | {error:.6f}\")"
      ],
      "metadata": {
        "id": "ADU6fjp42UPc"
      },
      "execution_count": null,
      "outputs": []
    }
  ]
}